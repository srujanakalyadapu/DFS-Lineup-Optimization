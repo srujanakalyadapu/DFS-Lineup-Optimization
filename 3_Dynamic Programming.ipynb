{
 "cells": [
  {
   "cell_type": "code",
   "execution_count": 6,
   "id": "c1afc2f6-2f67-430d-b296-26847465f2be",
   "metadata": {},
   "outputs": [
    {
     "name": "stdout",
     "output_type": "stream",
     "text": [
      "Selected Lineup Indices:  [1, 27, 30, 34, 61, 65, 66, 67, 83, 97]\n",
      "Minimum Overlap Sum:  62\n"
     ]
    }
   ],
   "source": [
    "import pandas as pd\n",
    "\n",
    "# Load the data\n",
    "lineups_df = pd.read_csv('2_output.csv')\n",
    "\n",
    "# Number of lineups to select\n",
    "k = 10\n",
    "\n",
    "# Initialize the dynamic programming table\n",
    "# dp[i][j] - minimum overlap with i lineups and j lineups selected\n",
    "dp = [[float('inf')] * (k + 1) for _ in range(len(lineups_df) + 1)]\n",
    "chosen_lineups = [[[] for _ in range(k + 1)] for _ in range(len(lineups_df) + 1)]\n",
    "\n",
    "# Base case: 0 lineups chosen, 0 overlap\n",
    "for i in range(len(lineups_df) + 1):\n",
    "    dp[i][0] = 0\n",
    "\n",
    "# Fill the DP table\n",
    "for i in range(1, len(lineups_df) + 1):\n",
    "    lineup = set(lineups_df.loc[i-1, ['Player1', 'Player2', 'Player3', 'Player4', 'Player5', 'Player6', 'Player7']])\n",
    "    \n",
    "    for j in range(1, k + 1):\n",
    "        # Option 1: Don't take this lineup\n",
    "        dp[i][j] = dp[i-1][j]\n",
    "        chosen_lineups[i][j] = chosen_lineups[i-1][j].copy()\n",
    "        \n",
    "        # Option 2: Take this lineup if it improves the solution\n",
    "        if j > 0:\n",
    "            previous_lineups = chosen_lineups[i-1][j-1]\n",
    "            total_overlap = sum(len(lineup & set(lineups_df.loc[idx-1, ['Player1', 'Player2', 'Player3', 'Player4', 'Player5', 'Player6', 'Player7']])) for idx in previous_lineups)\n",
    "            \n",
    "            if dp[i-1][j-1] + total_overlap < dp[i][j]:\n",
    "                dp[i][j] = dp[i-1][j-1] + total_overlap\n",
    "                chosen_lineups[i][j] = previous_lineups + [i]\n",
    "\n",
    "# Backtrack to find the selected lineups with the minimum overlap\n",
    "selected_lineups = chosen_lineups[len(lineups_df)][k]\n",
    "\n",
    "# Results\n",
    "print(\"Selected Lineup Indices: \", selected_lineups)\n",
    "print(\"Minimum Overlap Sum: \", dp[len(lineups_df)][k])\n"
   ]
  }
 ],
 "metadata": {
  "kernelspec": {
   "display_name": "Python 3 (ipykernel)",
   "language": "python",
   "name": "python3"
  },
  "language_info": {
   "codemirror_mode": {
    "name": "ipython",
    "version": 3
   },
   "file_extension": ".py",
   "mimetype": "text/x-python",
   "name": "python",
   "nbconvert_exporter": "python",
   "pygments_lexer": "ipython3",
   "version": "3.11.7"
  }
 },
 "nbformat": 4,
 "nbformat_minor": 5
}
